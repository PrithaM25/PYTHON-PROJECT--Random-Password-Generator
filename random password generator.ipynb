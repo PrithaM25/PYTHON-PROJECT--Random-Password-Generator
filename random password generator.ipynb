{
 "cells": [
  {
   "cell_type": "code",
   "execution_count": null,
   "id": "d302343b-507c-4d85-9313-35b718fcacdc",
   "metadata": {},
   "outputs": [
    {
     "name": "stdout",
     "output_type": "stream",
     "text": [
      "Welcome to our Random Password Generator\n"
     ]
    },
    {
     "name": "stdin",
     "output_type": "stream",
     "text": [
      "Enter the length of password you want: 12\n"
     ]
    },
    {
     "name": "stdout",
     "output_type": "stream",
     "text": [
      "$7n+o%0}\"`;2\n",
      "Welcome to our Random Password Generator\n"
     ]
    },
    {
     "name": "stdin",
     "output_type": "stream",
     "text": [
      "Enter the length of password you want: 12\n"
     ]
    },
    {
     "name": "stdout",
     "output_type": "stream",
     "text": [
      "wt_9B).>4iRn\n",
      "Welcome to our Random Password Generator\n"
     ]
    },
    {
     "name": "stdin",
     "output_type": "stream",
     "text": [
      "Enter the length of password you want: 15\n"
     ]
    },
    {
     "name": "stdout",
     "output_type": "stream",
     "text": [
      ".,CBL-\\\"f32mcq#\n",
      "Welcome to our Random Password Generator\n"
     ]
    }
   ],
   "source": [
    "import random\n",
    "import string\n",
    "print(\"Welcome to our Random Password Generator\")\n",
    "\n",
    "def main():\n",
    "    length=int(input(\"Enter the length of password you want:\"))\n",
    "    lowerD=string.ascii_lowercase\n",
    "    upperD=string.ascii_uppercase\n",
    "    digitD=string.digits\n",
    "    symbolsD=string.punctuation\n",
    "    combine=lowerD+upperD+digitD+symbolsD\n",
    "    x= random.sample(combine,length)\n",
    "    Password= \"\".join(x)\n",
    "    print(Password)\n",
    "    main()\n",
    "\n",
    "main()"
   ]
  },
  {
   "cell_type": "code",
   "execution_count": null,
   "id": "a6bc9098-b5bf-49e5-b1d7-5a0ee00f20a0",
   "metadata": {},
   "outputs": [],
   "source": []
  }
 ],
 "metadata": {
  "kernelspec": {
   "display_name": "Python 3 (ipykernel)",
   "language": "python",
   "name": "python3"
  },
  "language_info": {
   "codemirror_mode": {
    "name": "ipython",
    "version": 3
   },
   "file_extension": ".py",
   "mimetype": "text/x-python",
   "name": "python",
   "nbconvert_exporter": "python",
   "pygments_lexer": "ipython3",
   "version": "3.12.2"
  }
 },
 "nbformat": 4,
 "nbformat_minor": 5
}
